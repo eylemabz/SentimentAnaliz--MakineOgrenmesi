{
  "nbformat": 4,
  "nbformat_minor": 0,
  "metadata": {
    "colab": {
      "name": "IlkKod.ipynb",
      "provenance": [],
      "authorship_tag": "ABX9TyOp+FRF2jiHZrPWHlolPkQW",
      "include_colab_link": true
    },
    "kernelspec": {
      "display_name": "Python 3",
      "name": "python3"
    },
    "language_info": {
      "name": "python"
    }
  },
  "cells": [
    {
      "cell_type": "markdown",
      "metadata": {
        "id": "view-in-github",
        "colab_type": "text"
      },
      "source": [
        "<a href=\"https://colab.research.google.com/github/eylemabz/SentimentAnaliz--MakineOgrenmesi/blob/main/SentimentAnalysisWithSentiWordNet.ipynb\" target=\"_parent\"><img src=\"https://colab.research.google.com/assets/colab-badge.svg\" alt=\"Open In Colab\"/></a>"
      ]
    },
    {
      "cell_type": "code",
      "metadata": {
        "colab": {
          "base_uri": "https://localhost:8080/"
        },
        "id": "LtOBGkKO0eCv",
        "outputId": "9857041a-fd6a-4a57-e387-c974181b50f2"
      },
      "source": [
        "import nltk\n",
        "nltk.download('punkt')\n",
        "nltk.download('averaged_perceptron_tagger')\n",
        "nltk.download('wordnet')\n",
        "nltk.download('sentiwordnet')\n"
      ],
      "execution_count": 1,
      "outputs": [
        {
          "output_type": "stream",
          "text": [
            "[nltk_data] Downloading package punkt to /root/nltk_data...\n",
            "[nltk_data]   Unzipping tokenizers/punkt.zip.\n",
            "[nltk_data] Downloading package averaged_perceptron_tagger to\n",
            "[nltk_data]     /root/nltk_data...\n",
            "[nltk_data]   Unzipping taggers/averaged_perceptron_tagger.zip.\n",
            "[nltk_data] Downloading package wordnet to /root/nltk_data...\n",
            "[nltk_data]   Unzipping corpora/wordnet.zip.\n",
            "[nltk_data] Downloading package sentiwordnet to /root/nltk_data...\n",
            "[nltk_data]   Unzipping corpora/sentiwordnet.zip.\n"
          ],
          "name": "stdout"
        },
        {
          "output_type": "execute_result",
          "data": {
            "text/plain": [
              "True"
            ]
          },
          "metadata": {
            "tags": []
          },
          "execution_count": 1
        }
      ]
    },
    {
      "cell_type": "code",
      "metadata": {
        "colab": {
          "base_uri": "https://localhost:8080/"
        },
        "id": "Xfu9SWtXAPK3",
        "outputId": "9d7a0abf-38b4-40f4-8844-0e8074d2dc48"
      },
      "source": [
        "import pandas as pd       \n",
        "data = pd.read_csv(\"labeledTrainData.tsv\", header=0, delimiter=\"\\t\", quoting=3)\n",
        "\n",
        "\n",
        "import random\n",
        "sentiment_data = list(zip(data[\"review\"], data[\"sentiment\"]))\n",
        "random.shuffle(sentiment_data)\n",
        "\n",
        "train_X, train_y = list(zip(*sentiment_data[:20000]))\n",
        " \n",
        "\n",
        "test_X, test_y = list(zip(*sentiment_data[20000:]))\n",
        "\n",
        "from nltk.stem import WordNetLemmatizer\n",
        "from nltk.corpus import wordnet as wn\n",
        "from nltk.corpus import sentiwordnet as swn\n",
        "from nltk import sent_tokenize, word_tokenize, pos_tag\n",
        " \n",
        " \n",
        "lemmatizer = WordNetLemmatizer()\n",
        " \n",
        " \n",
        "def penn_to_wn(tag):\n",
        "   \n",
        "    if tag.startswith('J'):\n",
        "        return wn.ADJ\n",
        "    elif tag.startswith('N'):\n",
        "        return wn.NOUN\n",
        "    elif tag.startswith('R'):\n",
        "        return wn.ADV\n",
        "    elif tag.startswith('V'):\n",
        "        return wn.VERB\n",
        "    return None\n",
        " \n",
        " \n",
        "def clean_text(text):\n",
        "    text = text.replace(\"<br />\", \" \")\n",
        "    return text\n",
        " \n",
        " \n",
        "def swn_polarity(text):\n",
        " \n",
        " \n",
        "    sentiment = 0.0\n",
        "    tokens_count = 0\n",
        " \n",
        "    text = clean_text(text)\n",
        " \n",
        " \n",
        "    raw_sentences = sent_tokenize(text)\n",
        "    for raw_sentence in raw_sentences:\n",
        "        tagged_sentence = pos_tag(word_tokenize(raw_sentence))\n",
        " \n",
        "        for word, tag in tagged_sentence:\n",
        "            wn_tag = penn_to_wn(tag)\n",
        "            if wn_tag not in (wn.NOUN, wn.ADJ, wn.ADV):\n",
        "                continue\n",
        " \n",
        "            lemma = lemmatizer.lemmatize(word, pos=wn_tag)\n",
        "            if not lemma:\n",
        "                continue\n",
        " \n",
        "            synsets = wn.synsets(lemma, pos=wn_tag)\n",
        "            if not synsets:\n",
        "                continue\n",
        " \n",
        "         \n",
        "            synset = synsets[0]\n",
        "            swn_synset = swn.senti_synset(synset.name())\n",
        " \n",
        "            sentiment += swn_synset.pos_score() - swn_synset.neg_score()\n",
        "            tokens_count += 1\n",
        "\n",
        "    if not tokens_count:\n",
        "        return 0\n",
        "\n",
        "    if sentiment >= 0:\n",
        "        return 1\n",
        " \n",
        "\n",
        "    return 0\n",
        "\n",
        "from sklearn.metrics import accuracy_score\n",
        "pred_y = [swn_polarity(text) for text in test_X]\n",
        " \n",
        "print (\"AUC: \",accuracy_score(test_y, pred_y)) "
      ],
      "execution_count": 2,
      "outputs": [
        {
          "output_type": "stream",
          "text": [
            "AUC:  0.6602\n"
          ],
          "name": "stdout"
        }
      ]
    }
  ]
}