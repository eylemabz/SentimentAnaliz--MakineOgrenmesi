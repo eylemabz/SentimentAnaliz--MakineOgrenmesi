{
  "nbformat": 4,
  "nbformat_minor": 0,
  "metadata": {
    "colab": {
      "name": "NLP.ipynb",
      "provenance": [],
      "collapsed_sections": [],
      "authorship_tag": "ABX9TyMU2FmBOMB8qE8/mAccM1FO",
      "include_colab_link": true
    },
    "kernelspec": {
      "display_name": "Python 3",
      "name": "python3"
    },
    "language_info": {
      "name": "python"
    }
  },
  "cells": [
    {
      "cell_type": "markdown",
      "metadata": {
        "id": "view-in-github",
        "colab_type": "text"
      },
      "source": [
        "<a href=\"https://colab.research.google.com/github/eylemabz/SentimentAnaliz--MakineOgrenmesi--SiniflandirmaAlgoritmalari/blob/main/SentimentAnalysis.ipynb\" target=\"_parent\"><img src=\"https://colab.research.google.com/assets/colab-badge.svg\" alt=\"Open In Colab\"/></a>"
      ]
    },
    {
      "cell_type": "code",
      "metadata": {
        "colab": {
          "base_uri": "https://localhost:8080/"
        },
        "id": "Vwz6p544w2N8",
        "outputId": "2a145362-6202-4de8-9808-54fe450d83da"
      },
      "source": [
        "# Natural Language Processing\n",
        "#IMDB_dataset ***************(Logistic regression best fit)*************************************\n",
        "# Importing the libraries\n",
        "import numpy as np\n",
        "import matplotlib.pyplot as plt\n",
        "import pandas as pd\n",
        "\n",
        "# Importing the dataset\n",
        "dataset= pd.read_csv(\"IMDB Dataset.csv\")\n",
        "\n",
        "dataset['sentiment'] = dataset['sentiment'].map({'positive': 1, 'negative': 0})\n",
        "# Cleaning the texts\n",
        "import re\n",
        "import nltk\n",
        "nltk.download('stopwords')\n",
        "from nltk.corpus import stopwords\n",
        "from nltk.stem.porter import PorterStemmer\n",
        "from bs4 import BeautifulSoup #To remove HTML tags\n",
        "corpus = []\n",
        "\n",
        "for i in range(0, 2000):\n",
        "    review = BeautifulSoup( dataset['review'][i], \"lxml\").text\n",
        "    review = re.sub('[^a-zA-Z]', ' ', review)\n",
        "    review = review.lower()\n",
        "    review = review.split()\n",
        "    ps = PorterStemmer()\n",
        "    review = [ps.stem(word) for word in review if not word in set(stopwords.words('english'))]\n",
        "    review = ' '.join(review)\n",
        "    corpus.append(review)\n",
        "\n",
        "# Creating the Bag of Words model\n",
        "from sklearn.feature_extraction.text import CountVectorizer\n",
        "cv = CountVectorizer(max_features = 2000)\n",
        "X = cv.fit_transform(corpus).toarray()\n",
        "dataset\n",
        "y = dataset.iloc[0:2000, 1].values\n",
        "\n",
        "# Splitting the dataset into the Training set and Test set\n",
        "from sklearn.model_selection import train_test_split\n",
        "X_train, X_test, y_train, y_test = train_test_split(X, y, test_size = 0.20, random_state = 0)\n"
      ],
      "execution_count": null,
      "outputs": [
        {
          "output_type": "stream",
          "text": [
            "[nltk_data] Downloading package stopwords to /root/nltk_data...\n",
            "[nltk_data]   Unzipping corpora/stopwords.zip.\n"
          ],
          "name": "stdout"
        }
      ]
    },
    {
      "cell_type": "code",
      "metadata": {
        "id": "mai7rIteVcil",
        "colab": {
          "base_uri": "https://localhost:8080/"
        },
        "outputId": "bcf63f28-2a49-4636-bc08-df8dc199b1af"
      },
      "source": [
        "# Fitting Naive Bayes to the Training set\n",
        "from sklearn.naive_bayes import GaussianNB\n",
        "classifier = GaussianNB()\n",
        "classifier.fit(X_train, y_train)\n",
        "\n",
        "# Predicting the Test set results\n",
        "y_pred = classifier.predict(X_test)\n",
        "\n",
        "# Making the Confusion Matrix\n",
        "from sklearn.metrics import confusion_matrix\n",
        "cm = confusion_matrix(y_test, y_pred)\n",
        "print(\"Confusion martrix for Naive Bayes is :- \\n\")\n",
        "print(cm)\n",
        "\n",
        "print(\"\\naccuracy:\",classifier.score(y_pred.reshape(-1,1),y_test))"
      ],
      "execution_count": 15,
      "outputs": [
        {
          "output_type": "stream",
          "text": [
            "Confusion martrix for Naive Bayes is :- \n",
            "\n",
            "[[144  54]\n",
            " [ 74 128]]\n",
            "\n",
            "accuracy: 0.68\n"
          ],
          "name": "stdout"
        }
      ]
    },
    {
      "cell_type": "code",
      "metadata": {
        "id": "DfwuDmNqU0Dx",
        "colab": {
          "base_uri": "https://localhost:8080/"
        },
        "outputId": "a3abd197-ad56-4e75-bd21-5403753b6c05"
      },
      "source": [
        "# Fitting Logistic Regression to the Training set\n",
        "from sklearn.linear_model import LogisticRegression\n",
        "classifier1 = LogisticRegression(random_state = 0)\n",
        "classifier1.fit(X_train, y_train)\n",
        "# Predicting the Test set results\n",
        "y_predL = classifier1.predict(X_test)\n",
        "\n",
        "#Making the Confusion Matrix\n",
        "from sklearn.metrics import confusion_matrix\n",
        "cm1 = confusion_matrix(y_test, y_predL)\n",
        "print(\"Confusion martrix for Logistic regression is :- \\n\")\n",
        "print(cm1)\n",
        "print(\"\\naccuracy {}\".format(classifier1.score(X_test, y_test)))"
      ],
      "execution_count": null,
      "outputs": [
        {
          "output_type": "stream",
          "text": [
            "Confusion martrix for Logistic regression is :- \n",
            "\n",
            "[[156  42]\n",
            " [ 35 167]]\n",
            "\n",
            "accuracy 0.8075\n"
          ],
          "name": "stdout"
        }
      ]
    },
    {
      "cell_type": "code",
      "metadata": {
        "id": "xsZZ4CpdxGq3",
        "colab": {
          "base_uri": "https://localhost:8080/"
        },
        "outputId": "fef15ef7-a2d2-4765-90ad-d229a0bc2b7b"
      },
      "source": [
        "# Fitting Decision Tree Classification to the Training set\n",
        "from sklearn.tree import DecisionTreeClassifier\n",
        "classifier2 = DecisionTreeClassifier(criterion = 'entropy', random_state = 0)\n",
        "classifier2.fit(X_train, y_train)\n",
        "\n",
        "# Predicting the Test set results\n",
        "y_predD = classifier2.predict(X_test)\n",
        "\n",
        "# Making the Confusion Matrix\n",
        "from sklearn.metrics import confusion_matrix\n",
        "cm2 = confusion_matrix(y_test, y_predD)\n",
        "print(\"Confusion martrix for Decision Tree is :- \\n\")\n",
        "print(cm2)\n",
        "print(\"\\nDecision Tree accuracy:\",classifier2.score(X_test,y_test))"
      ],
      "execution_count": null,
      "outputs": [
        {
          "output_type": "stream",
          "text": [
            "Confusion martrix for Decision Tree is :- \n",
            "\n",
            "[[134  64]\n",
            " [ 48 154]]\n",
            "\n",
            "Decision Tree accuracy: 0.72\n"
          ],
          "name": "stdout"
        }
      ]
    },
    {
      "cell_type": "code",
      "metadata": {
        "id": "0Ze0qw6pxJ0p",
        "colab": {
          "base_uri": "https://localhost:8080/"
        },
        "outputId": "861c42be-de55-450e-a776-61386866a08e"
      },
      "source": [
        "# Fitting Random Forest Classification to the Training set\n",
        "from sklearn.ensemble import RandomForestClassifier\n",
        "classifier3 = RandomForestClassifier(n_estimators = 10, criterion = 'entropy', random_state = 0)\n",
        "classifier3.fit(X_train, y_train)\n",
        "\n",
        "# Predicting the Test set results\n",
        "y_predR = classifier3.predict(X_test)\n",
        "\n",
        "# Making the Confusion Matrix\n",
        "from sklearn.metrics import confusion_matrix\n",
        "cm3 = confusion_matrix(y_test, y_predR)\n",
        "print(\"Confusion martrix for Random Forest is :- \\n\")\n",
        "print(cm3)\n",
        "print(\"\\nRandm forest accuracy:\",classifier3.score(X_test,y_test))"
      ],
      "execution_count": null,
      "outputs": [
        {
          "output_type": "stream",
          "text": [
            "Confusion martrix for Random Forest is :- \n",
            "\n",
            "[[159  39]\n",
            " [ 67 135]]\n",
            "\n",
            "Randm forest accuracy: 0.735\n"
          ],
          "name": "stdout"
        }
      ]
    },
    {
      "cell_type": "code",
      "metadata": {
        "id": "a4hBiorbxN_R",
        "colab": {
          "base_uri": "https://localhost:8080/"
        },
        "outputId": "141c7ae4-c3f3-454c-c93a-edda35fec884"
      },
      "source": [
        "# Fitting K-NN to the Training set\n",
        "from sklearn.neighbors import KNeighborsClassifier\n",
        "classifier4 = KNeighborsClassifier(n_neighbors = 5, metric = 'minkowski', p = 2)\n",
        "classifier4.fit(X_train, y_train)\n",
        "\n",
        "# Predicting the Test set results\n",
        "y_predK = classifier4.predict(X_test)\n",
        "\n",
        "# Making the Confusion Matrix\n",
        "from sklearn.metrics import confusion_matrix\n",
        "cm4 = confusion_matrix(y_test, y_predK)\n",
        "print(\"Confusion martrix for KNN is :- \\n\")\n",
        "print(cm4)\n",
        "print(\"\\nKNN accuarcy:{}\".format(classifier4.score(X_test,y_test)))"
      ],
      "execution_count": null,
      "outputs": [
        {
          "output_type": "stream",
          "text": [
            "Confusion martrix for KNN is :- \n",
            "\n",
            "[[136  62]\n",
            " [ 99 103]]\n",
            "\n",
            "KNN accuarcy:0.5975\n"
          ],
          "name": "stdout"
        }
      ]
    }
  ]
}